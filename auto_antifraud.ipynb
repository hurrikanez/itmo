{
  "cells": [
    {
      "cell_type": "markdown",
      "metadata": {},
      "source": [
        "Задача:\n",
        "\n",
        "По заданному массиву убыточных авто (VIN, гос. знак) найти наиболее подозрительные для более детально изучения с помощью какого-либо метода сравнения строк на предмет похожести друг на друга.\n"
      ]
    },
    {
      "cell_type": "code",
      "execution_count": 2,
      "metadata": {
        "colab": {
          "base_uri": "https://localhost:8080/"
        },
        "id": "NQOETKtI59mz",
        "outputId": "a472350d-df88-45de-824e-acfc56f71867"
      },
      "outputs": [
        {
          "name": "stdout",
          "output_type": "stream",
          "text": [
            "Looking in indexes: https://pypi.org/simple, https://us-python.pkg.dev/colab-wheels/public/simple/\n",
            "Requirement already satisfied: textdistance[extras] in /usr/local/lib/python3.8/dist-packages (4.5.0)\n",
            "Requirement already satisfied: python-Levenshtein in /usr/local/lib/python3.8/dist-packages (from textdistance[extras]) (0.20.8)\n",
            "Requirement already satisfied: numpy in /usr/local/lib/python3.8/dist-packages (from textdistance[extras]) (1.21.6)\n",
            "Requirement already satisfied: rapidfuzz>=2.6.0 in /usr/local/lib/python3.8/dist-packages (from textdistance[extras]) (2.13.3)\n",
            "Requirement already satisfied: abydos in /usr/local/lib/python3.8/dist-packages (from textdistance[extras]) (0.5.0)\n",
            "Requirement already satisfied: pyxDamerauLevenshtein in /usr/local/lib/python3.8/dist-packages (from textdistance[extras]) (1.7.1)\n",
            "Requirement already satisfied: jellyfish in /usr/local/lib/python3.8/dist-packages (from textdistance[extras]) (0.9.0)\n",
            "Requirement already satisfied: deprecation in /usr/local/lib/python3.8/dist-packages (from abydos->textdistance[extras]) (2.1.0)\n",
            "Requirement already satisfied: packaging in /usr/local/lib/python3.8/dist-packages (from deprecation->abydos->textdistance[extras]) (21.3)\n",
            "Requirement already satisfied: pyparsing!=3.0.5,>=2.0.2 in /usr/local/lib/python3.8/dist-packages (from packaging->deprecation->abydos->textdistance[extras]) (3.0.9)\n",
            "Requirement already satisfied: Levenshtein==0.20.8 in /usr/local/lib/python3.8/dist-packages (from python-Levenshtein->textdistance[extras]) (0.20.8)\n"
          ]
        }
      ],
      "source": [
        "!pip install \"textdistance[extras]\""
      ]
    },
    {
      "cell_type": "code",
      "execution_count": 3,
      "metadata": {
        "id": "hD9sHXya59m0"
      },
      "outputs": [],
      "source": [
        "import pandas as pd"
      ]
    },
    {
      "cell_type": "code",
      "execution_count": 4,
      "metadata": {
        "id": "2D7aFwQL59m1"
      },
      "outputs": [],
      "source": [
        "auto = pd.read_excel(\"auto.xlsx\")"
      ]
    },
    {
      "cell_type": "code",
      "execution_count": 5,
      "metadata": {
        "colab": {
          "base_uri": "https://localhost:8080/",
          "height": 206
        },
        "id": "XG7mzzhv59m1",
        "outputId": "d9b81d82-7f39-49ae-ae80-2b0e49693db2"
      },
      "outputs": [
        {
          "data": {
            "text/html": [
              "\n",
              "  <div id=\"df-c96ea123-ad15-4489-a655-ac457afec861\">\n",
              "    <div class=\"colab-df-container\">\n",
              "      <div>\n",
              "<style scoped>\n",
              "    .dataframe tbody tr th:only-of-type {\n",
              "        vertical-align: middle;\n",
              "    }\n",
              "\n",
              "    .dataframe tbody tr th {\n",
              "        vertical-align: top;\n",
              "    }\n",
              "\n",
              "    .dataframe thead th {\n",
              "        text-align: right;\n",
              "    }\n",
              "</style>\n",
              "<table border=\"1\" class=\"dataframe\">\n",
              "  <thead>\n",
              "    <tr style=\"text-align: right;\">\n",
              "      <th></th>\n",
              "      <th>num_ts</th>\n",
              "      <th>VIN</th>\n",
              "      <th>GRZ</th>\n",
              "      <th>model_ts</th>\n",
              "      <th>sum</th>\n",
              "    </tr>\n",
              "  </thead>\n",
              "  <tbody>\n",
              "    <tr>\n",
              "      <th>0</th>\n",
              "      <td>1</td>\n",
              "      <td>1G1JC524417418958</td>\n",
              "      <td>M448PH123</td>\n",
              "      <td>2001 Chevrolet Cavalier</td>\n",
              "      <td>382378</td>\n",
              "    </tr>\n",
              "    <tr>\n",
              "      <th>1</th>\n",
              "      <td>2</td>\n",
              "      <td>2B3HD46R02H210893</td>\n",
              "      <td>T384PY98</td>\n",
              "      <td>2002 Dodge Intrepid</td>\n",
              "      <td>269794</td>\n",
              "    </tr>\n",
              "    <tr>\n",
              "      <th>2</th>\n",
              "      <td>3</td>\n",
              "      <td>KMHD25LE1DU042025</td>\n",
              "      <td>B397MB23</td>\n",
              "      <td>2013 Hyundai Elantra GT</td>\n",
              "      <td>56681</td>\n",
              "    </tr>\n",
              "    <tr>\n",
              "      <th>3</th>\n",
              "      <td>4</td>\n",
              "      <td>JH4CC2642RC001364</td>\n",
              "      <td>T447AY67</td>\n",
              "      <td>1994 Acura Vigor</td>\n",
              "      <td>327237</td>\n",
              "    </tr>\n",
              "    <tr>\n",
              "      <th>4</th>\n",
              "      <td>5</td>\n",
              "      <td>2BCHV81S4JB533621</td>\n",
              "      <td>E726EK61</td>\n",
              "      <td>1988 Jeep Wrangler</td>\n",
              "      <td>244091</td>\n",
              "    </tr>\n",
              "  </tbody>\n",
              "</table>\n",
              "</div>\n",
              "      <button class=\"colab-df-convert\" onclick=\"convertToInteractive('df-c96ea123-ad15-4489-a655-ac457afec861')\"\n",
              "              title=\"Convert this dataframe to an interactive table.\"\n",
              "              style=\"display:none;\">\n",
              "        \n",
              "  <svg xmlns=\"http://www.w3.org/2000/svg\" height=\"24px\"viewBox=\"0 0 24 24\"\n",
              "       width=\"24px\">\n",
              "    <path d=\"M0 0h24v24H0V0z\" fill=\"none\"/>\n",
              "    <path d=\"M18.56 5.44l.94 2.06.94-2.06 2.06-.94-2.06-.94-.94-2.06-.94 2.06-2.06.94zm-11 1L8.5 8.5l.94-2.06 2.06-.94-2.06-.94L8.5 2.5l-.94 2.06-2.06.94zm10 10l.94 2.06.94-2.06 2.06-.94-2.06-.94-.94-2.06-.94 2.06-2.06.94z\"/><path d=\"M17.41 7.96l-1.37-1.37c-.4-.4-.92-.59-1.43-.59-.52 0-1.04.2-1.43.59L10.3 9.45l-7.72 7.72c-.78.78-.78 2.05 0 2.83L4 21.41c.39.39.9.59 1.41.59.51 0 1.02-.2 1.41-.59l7.78-7.78 2.81-2.81c.8-.78.8-2.07 0-2.86zM5.41 20L4 18.59l7.72-7.72 1.47 1.35L5.41 20z\"/>\n",
              "  </svg>\n",
              "      </button>\n",
              "      \n",
              "  <style>\n",
              "    .colab-df-container {\n",
              "      display:flex;\n",
              "      flex-wrap:wrap;\n",
              "      gap: 12px;\n",
              "    }\n",
              "\n",
              "    .colab-df-convert {\n",
              "      background-color: #E8F0FE;\n",
              "      border: none;\n",
              "      border-radius: 50%;\n",
              "      cursor: pointer;\n",
              "      display: none;\n",
              "      fill: #1967D2;\n",
              "      height: 32px;\n",
              "      padding: 0 0 0 0;\n",
              "      width: 32px;\n",
              "    }\n",
              "\n",
              "    .colab-df-convert:hover {\n",
              "      background-color: #E2EBFA;\n",
              "      box-shadow: 0px 1px 2px rgba(60, 64, 67, 0.3), 0px 1px 3px 1px rgba(60, 64, 67, 0.15);\n",
              "      fill: #174EA6;\n",
              "    }\n",
              "\n",
              "    [theme=dark] .colab-df-convert {\n",
              "      background-color: #3B4455;\n",
              "      fill: #D2E3FC;\n",
              "    }\n",
              "\n",
              "    [theme=dark] .colab-df-convert:hover {\n",
              "      background-color: #434B5C;\n",
              "      box-shadow: 0px 1px 3px 1px rgba(0, 0, 0, 0.15);\n",
              "      filter: drop-shadow(0px 1px 2px rgba(0, 0, 0, 0.3));\n",
              "      fill: #FFFFFF;\n",
              "    }\n",
              "  </style>\n",
              "\n",
              "      <script>\n",
              "        const buttonEl =\n",
              "          document.querySelector('#df-c96ea123-ad15-4489-a655-ac457afec861 button.colab-df-convert');\n",
              "        buttonEl.style.display =\n",
              "          google.colab.kernel.accessAllowed ? 'block' : 'none';\n",
              "\n",
              "        async function convertToInteractive(key) {\n",
              "          const element = document.querySelector('#df-c96ea123-ad15-4489-a655-ac457afec861');\n",
              "          const dataTable =\n",
              "            await google.colab.kernel.invokeFunction('convertToInteractive',\n",
              "                                                     [key], {});\n",
              "          if (!dataTable) return;\n",
              "\n",
              "          const docLinkHtml = 'Like what you see? Visit the ' +\n",
              "            '<a target=\"_blank\" href=https://colab.research.google.com/notebooks/data_table.ipynb>data table notebook</a>'\n",
              "            + ' to learn more about interactive tables.';\n",
              "          element.innerHTML = '';\n",
              "          dataTable['output_type'] = 'display_data';\n",
              "          await google.colab.output.renderOutput(dataTable, element);\n",
              "          const docLink = document.createElement('div');\n",
              "          docLink.innerHTML = docLinkHtml;\n",
              "          element.appendChild(docLink);\n",
              "        }\n",
              "      </script>\n",
              "    </div>\n",
              "  </div>\n",
              "  "
            ],
            "text/plain": [
              "   num_ts                VIN        GRZ                 model_ts     sum\n",
              "0       1  1G1JC524417418958  M448PH123  2001 Chevrolet Cavalier  382378\n",
              "1       2  2B3HD46R02H210893   T384PY98      2002 Dodge Intrepid  269794\n",
              "2       3  KMHD25LE1DU042025   B397MB23  2013 Hyundai Elantra GT   56681\n",
              "3       4  JH4CC2642RC001364   T447AY67         1994 Acura Vigor  327237\n",
              "4       5  2BCHV81S4JB533621   E726EK61       1988 Jeep Wrangler  244091"
            ]
          },
          "execution_count": 5,
          "metadata": {},
          "output_type": "execute_result"
        }
      ],
      "source": [
        "auto.head()"
      ]
    },
    {
      "cell_type": "code",
      "execution_count": 6,
      "metadata": {
        "colab": {
          "base_uri": "https://localhost:8080/"
        },
        "id": "dfqygzm159m2",
        "outputId": "d6347aa5-662d-40ed-82d7-4b75e3fb6102"
      },
      "outputs": [
        {
          "data": {
            "text/plain": [
              "(70, 5)"
            ]
          },
          "execution_count": 6,
          "metadata": {},
          "output_type": "execute_result"
        }
      ],
      "source": [
        "auto.shape"
      ]
    },
    {
      "cell_type": "code",
      "execution_count": 7,
      "metadata": {
        "id": "CYqkAadq59m2"
      },
      "outputs": [],
      "source": [
        "auto[\"glued_string\"] = auto.VIN + auto.GRZ"
      ]
    },
    {
      "cell_type": "code",
      "execution_count": 8,
      "metadata": {
        "colab": {
          "base_uri": "https://localhost:8080/",
          "height": 424
        },
        "id": "qaWwnUMW59m2",
        "outputId": "25804e88-c0f6-4750-991e-16ac44e929fa"
      },
      "outputs": [
        {
          "data": {
            "text/html": [
              "\n",
              "  <div id=\"df-380b8342-bd21-4d6b-b591-0f13864589e3\">\n",
              "    <div class=\"colab-df-container\">\n",
              "      <div>\n",
              "<style scoped>\n",
              "    .dataframe tbody tr th:only-of-type {\n",
              "        vertical-align: middle;\n",
              "    }\n",
              "\n",
              "    .dataframe tbody tr th {\n",
              "        vertical-align: top;\n",
              "    }\n",
              "\n",
              "    .dataframe thead th {\n",
              "        text-align: right;\n",
              "    }\n",
              "</style>\n",
              "<table border=\"1\" class=\"dataframe\">\n",
              "  <thead>\n",
              "    <tr style=\"text-align: right;\">\n",
              "      <th></th>\n",
              "      <th>num_ts</th>\n",
              "      <th>VIN</th>\n",
              "      <th>GRZ</th>\n",
              "      <th>model_ts</th>\n",
              "      <th>sum</th>\n",
              "      <th>glued_string</th>\n",
              "    </tr>\n",
              "  </thead>\n",
              "  <tbody>\n",
              "    <tr>\n",
              "      <th>0</th>\n",
              "      <td>1</td>\n",
              "      <td>1G1JC524417418958</td>\n",
              "      <td>M448PH123</td>\n",
              "      <td>2001 Chevrolet Cavalier</td>\n",
              "      <td>382378</td>\n",
              "      <td>1G1JC524417418958M448PH123</td>\n",
              "    </tr>\n",
              "    <tr>\n",
              "      <th>1</th>\n",
              "      <td>2</td>\n",
              "      <td>2B3HD46R02H210893</td>\n",
              "      <td>T384PY98</td>\n",
              "      <td>2002 Dodge Intrepid</td>\n",
              "      <td>269794</td>\n",
              "      <td>2B3HD46R02H210893T384PY98</td>\n",
              "    </tr>\n",
              "    <tr>\n",
              "      <th>2</th>\n",
              "      <td>3</td>\n",
              "      <td>KMHD25LE1DU042025</td>\n",
              "      <td>B397MB23</td>\n",
              "      <td>2013 Hyundai Elantra GT</td>\n",
              "      <td>56681</td>\n",
              "      <td>KMHD25LE1DU042025B397MB23</td>\n",
              "    </tr>\n",
              "    <tr>\n",
              "      <th>3</th>\n",
              "      <td>4</td>\n",
              "      <td>JH4CC2642RC001364</td>\n",
              "      <td>T447AY67</td>\n",
              "      <td>1994 Acura Vigor</td>\n",
              "      <td>327237</td>\n",
              "      <td>JH4CC2642RC001364T447AY67</td>\n",
              "    </tr>\n",
              "    <tr>\n",
              "      <th>4</th>\n",
              "      <td>5</td>\n",
              "      <td>2BCHV81S4JB533621</td>\n",
              "      <td>E726EK61</td>\n",
              "      <td>1988 Jeep Wrangler</td>\n",
              "      <td>244091</td>\n",
              "      <td>2BCHV81S4JB533621E726EK61</td>\n",
              "    </tr>\n",
              "    <tr>\n",
              "      <th>...</th>\n",
              "      <td>...</td>\n",
              "      <td>...</td>\n",
              "      <td>...</td>\n",
              "      <td>...</td>\n",
              "      <td>...</td>\n",
              "      <td>...</td>\n",
              "    </tr>\n",
              "    <tr>\n",
              "      <th>65</th>\n",
              "      <td>66</td>\n",
              "      <td>1FUJBGAN04HM86987</td>\n",
              "      <td>H938YK199</td>\n",
              "      <td>2004 Freightliner Medium Conventional</td>\n",
              "      <td>57102</td>\n",
              "      <td>1FUJBGAN04HM86987H938YK199</td>\n",
              "    </tr>\n",
              "    <tr>\n",
              "      <th>66</th>\n",
              "      <td>67</td>\n",
              "      <td>JN8AZ28R49T122921</td>\n",
              "      <td>Y127KO89</td>\n",
              "      <td>2009 Nissan Cube</td>\n",
              "      <td>250696</td>\n",
              "      <td>JN8AZ28R49T122921Y127KO89</td>\n",
              "    </tr>\n",
              "    <tr>\n",
              "      <th>67</th>\n",
              "      <td>68</td>\n",
              "      <td>JA3AP57J5SY000719</td>\n",
              "      <td>A553AE59</td>\n",
              "      <td>1995 Mitsubishi Diamante</td>\n",
              "      <td>183402</td>\n",
              "      <td>JA3AP57J5SY000719A553AE59</td>\n",
              "    </tr>\n",
              "    <tr>\n",
              "      <th>68</th>\n",
              "      <td>69</td>\n",
              "      <td>4V4NC9JH21N322086</td>\n",
              "      <td>K659PK68</td>\n",
              "      <td>2001 Volvo VN</td>\n",
              "      <td>350022</td>\n",
              "      <td>4V4NC9JH21N322086K659PK68</td>\n",
              "    </tr>\n",
              "    <tr>\n",
              "      <th>69</th>\n",
              "      <td>70</td>\n",
              "      <td>4S3BK4355T6319316</td>\n",
              "      <td>T772KY16</td>\n",
              "      <td>1996 Subaru Legacy</td>\n",
              "      <td>41675</td>\n",
              "      <td>4S3BK4355T6319316T772KY16</td>\n",
              "    </tr>\n",
              "  </tbody>\n",
              "</table>\n",
              "<p>70 rows × 6 columns</p>\n",
              "</div>\n",
              "      <button class=\"colab-df-convert\" onclick=\"convertToInteractive('df-380b8342-bd21-4d6b-b591-0f13864589e3')\"\n",
              "              title=\"Convert this dataframe to an interactive table.\"\n",
              "              style=\"display:none;\">\n",
              "        \n",
              "  <svg xmlns=\"http://www.w3.org/2000/svg\" height=\"24px\"viewBox=\"0 0 24 24\"\n",
              "       width=\"24px\">\n",
              "    <path d=\"M0 0h24v24H0V0z\" fill=\"none\"/>\n",
              "    <path d=\"M18.56 5.44l.94 2.06.94-2.06 2.06-.94-2.06-.94-.94-2.06-.94 2.06-2.06.94zm-11 1L8.5 8.5l.94-2.06 2.06-.94-2.06-.94L8.5 2.5l-.94 2.06-2.06.94zm10 10l.94 2.06.94-2.06 2.06-.94-2.06-.94-.94-2.06-.94 2.06-2.06.94z\"/><path d=\"M17.41 7.96l-1.37-1.37c-.4-.4-.92-.59-1.43-.59-.52 0-1.04.2-1.43.59L10.3 9.45l-7.72 7.72c-.78.78-.78 2.05 0 2.83L4 21.41c.39.39.9.59 1.41.59.51 0 1.02-.2 1.41-.59l7.78-7.78 2.81-2.81c.8-.78.8-2.07 0-2.86zM5.41 20L4 18.59l7.72-7.72 1.47 1.35L5.41 20z\"/>\n",
              "  </svg>\n",
              "      </button>\n",
              "      \n",
              "  <style>\n",
              "    .colab-df-container {\n",
              "      display:flex;\n",
              "      flex-wrap:wrap;\n",
              "      gap: 12px;\n",
              "    }\n",
              "\n",
              "    .colab-df-convert {\n",
              "      background-color: #E8F0FE;\n",
              "      border: none;\n",
              "      border-radius: 50%;\n",
              "      cursor: pointer;\n",
              "      display: none;\n",
              "      fill: #1967D2;\n",
              "      height: 32px;\n",
              "      padding: 0 0 0 0;\n",
              "      width: 32px;\n",
              "    }\n",
              "\n",
              "    .colab-df-convert:hover {\n",
              "      background-color: #E2EBFA;\n",
              "      box-shadow: 0px 1px 2px rgba(60, 64, 67, 0.3), 0px 1px 3px 1px rgba(60, 64, 67, 0.15);\n",
              "      fill: #174EA6;\n",
              "    }\n",
              "\n",
              "    [theme=dark] .colab-df-convert {\n",
              "      background-color: #3B4455;\n",
              "      fill: #D2E3FC;\n",
              "    }\n",
              "\n",
              "    [theme=dark] .colab-df-convert:hover {\n",
              "      background-color: #434B5C;\n",
              "      box-shadow: 0px 1px 3px 1px rgba(0, 0, 0, 0.15);\n",
              "      filter: drop-shadow(0px 1px 2px rgba(0, 0, 0, 0.3));\n",
              "      fill: #FFFFFF;\n",
              "    }\n",
              "  </style>\n",
              "\n",
              "      <script>\n",
              "        const buttonEl =\n",
              "          document.querySelector('#df-380b8342-bd21-4d6b-b591-0f13864589e3 button.colab-df-convert');\n",
              "        buttonEl.style.display =\n",
              "          google.colab.kernel.accessAllowed ? 'block' : 'none';\n",
              "\n",
              "        async function convertToInteractive(key) {\n",
              "          const element = document.querySelector('#df-380b8342-bd21-4d6b-b591-0f13864589e3');\n",
              "          const dataTable =\n",
              "            await google.colab.kernel.invokeFunction('convertToInteractive',\n",
              "                                                     [key], {});\n",
              "          if (!dataTable) return;\n",
              "\n",
              "          const docLinkHtml = 'Like what you see? Visit the ' +\n",
              "            '<a target=\"_blank\" href=https://colab.research.google.com/notebooks/data_table.ipynb>data table notebook</a>'\n",
              "            + ' to learn more about interactive tables.';\n",
              "          element.innerHTML = '';\n",
              "          dataTable['output_type'] = 'display_data';\n",
              "          await google.colab.output.renderOutput(dataTable, element);\n",
              "          const docLink = document.createElement('div');\n",
              "          docLink.innerHTML = docLinkHtml;\n",
              "          element.appendChild(docLink);\n",
              "        }\n",
              "      </script>\n",
              "    </div>\n",
              "  </div>\n",
              "  "
            ],
            "text/plain": [
              "    num_ts                VIN        GRZ  \\\n",
              "0        1  1G1JC524417418958  M448PH123   \n",
              "1        2  2B3HD46R02H210893   T384PY98   \n",
              "2        3  KMHD25LE1DU042025   B397MB23   \n",
              "3        4  JH4CC2642RC001364   T447AY67   \n",
              "4        5  2BCHV81S4JB533621   E726EK61   \n",
              "..     ...                ...        ...   \n",
              "65      66  1FUJBGAN04HM86987  H938YK199   \n",
              "66      67  JN8AZ28R49T122921   Y127KO89   \n",
              "67      68  JA3AP57J5SY000719   A553AE59   \n",
              "68      69  4V4NC9JH21N322086   K659PK68   \n",
              "69      70  4S3BK4355T6319316   T772KY16   \n",
              "\n",
              "                                 model_ts     sum                glued_string  \n",
              "0                 2001 Chevrolet Cavalier  382378  1G1JC524417418958M448PH123  \n",
              "1                     2002 Dodge Intrepid  269794   2B3HD46R02H210893T384PY98  \n",
              "2                 2013 Hyundai Elantra GT   56681   KMHD25LE1DU042025B397MB23  \n",
              "3                        1994 Acura Vigor  327237   JH4CC2642RC001364T447AY67  \n",
              "4                      1988 Jeep Wrangler  244091   2BCHV81S4JB533621E726EK61  \n",
              "..                                    ...     ...                         ...  \n",
              "65  2004 Freightliner Medium Conventional   57102  1FUJBGAN04HM86987H938YK199  \n",
              "66                       2009 Nissan Cube  250696   JN8AZ28R49T122921Y127KO89  \n",
              "67               1995 Mitsubishi Diamante  183402   JA3AP57J5SY000719A553AE59  \n",
              "68                          2001 Volvo VN  350022   4V4NC9JH21N322086K659PK68  \n",
              "69                     1996 Subaru Legacy   41675   4S3BK4355T6319316T772KY16  \n",
              "\n",
              "[70 rows x 6 columns]"
            ]
          },
          "execution_count": 8,
          "metadata": {},
          "output_type": "execute_result"
        }
      ],
      "source": [
        "auto"
      ]
    },
    {
      "cell_type": "code",
      "execution_count": 9,
      "metadata": {
        "id": "gWDGzur_59m2"
      },
      "outputs": [],
      "source": [
        "import itertools"
      ]
    },
    {
      "cell_type": "code",
      "execution_count": 10,
      "metadata": {
        "id": "dwwASoZj59m3"
      },
      "outputs": [],
      "source": [
        "all_rows = itertools.product(auto.glued_string, auto.glued_string)"
      ]
    },
    {
      "cell_type": "code",
      "execution_count": 11,
      "metadata": {
        "colab": {
          "base_uri": "https://localhost:8080/"
        },
        "id": "nmzx62Km59m3",
        "outputId": "307b756d-fcfa-4ac8-f06a-6019aba09323"
      },
      "outputs": [
        {
          "data": {
            "text/plain": [
              "<itertools.product at 0x7fca68788240>"
            ]
          },
          "execution_count": 11,
          "metadata": {},
          "output_type": "execute_result"
        }
      ],
      "source": [
        "all_rows"
      ]
    },
    {
      "cell_type": "code",
      "execution_count": 12,
      "metadata": {
        "id": "-UV17-2P59m3"
      },
      "outputs": [],
      "source": [
        "import textdistance as td\n",
        "from pyxdameraulevenshtein import normalized_damerau_levenshtein_distance"
      ]
    },
    {
      "cell_type": "code",
      "execution_count": 13,
      "metadata": {
        "id": "eFHpn_7659m3"
      },
      "outputs": [],
      "source": [
        "distances = {}\n",
        "for l, r in all_rows:\n",
        "    if l != r:\n",
        "        distances[str({l, r})] = normalized_damerau_levenshtein_distance(l, r)"
      ]
    },
    {
      "cell_type": "code",
      "execution_count": 14,
      "metadata": {
        "id": "qHsqybE959m4"
      },
      "outputs": [],
      "source": [
        "distance_rows = list(distances.items())"
      ]
    },
    {
      "cell_type": "code",
      "execution_count": 15,
      "metadata": {
        "colab": {
          "base_uri": "https://localhost:8080/"
        },
        "id": "xDwYAkJZ59m4",
        "outputId": "5fb74bcd-eead-48da-af3d-cc542b055cc7"
      },
      "outputs": [
        {
          "data": {
            "text/plain": [
              "[(\"{'WP1AA2A28BL103838M878MM134', 'WP1AA2A28BL103832M178MM134'}\",\n",
              "  0.07692307978868484),\n",
              " (\"{'WP1AA2A28BL103838M878MM134', 'WP1AA2A28BL103833M778MM134'}\",\n",
              "  0.07692307978868484),\n",
              " (\"{'WP1AA2A28BL103832M178MM134', 'WP1AA2A28BL103833M778MM134'}\",\n",
              "  0.07692307978868484),\n",
              " (\"{'JTJBM7FX0A5000592O484HH76', 'JTJBM7FX0A5000592C714MY56'}\",\n",
              "  0.23999999463558197),\n",
              " (\"{'JN8AZ28R49T122921Y127KO89', 'JN8AZ28R49T122921P377CA66'}\",\n",
              "  0.2800000011920929),\n",
              " (\"{'2BCHV81S4JB533621M421TM177', '2BCHV81S4JB533621E726EK61'}\",\n",
              "  0.3076923191547394),\n",
              " (\"{'JHMSZ542XDC028494T120TC777', 'JHMSZ542XDC028494K656OP38'}\",\n",
              "  0.3461538553237915),\n",
              " (\"{'JH4KA3140LC003233H219KC54', 'JH4KA7660MC001937T158KC32'}\",\n",
              "  0.5199999809265137),\n",
              " (\"{'JH4DA9340MS002938O110ET30', 'JH4KA7660MC001937T158KC32'}\",\n",
              "  0.5199999809265137),\n",
              " (\"{'JH4DA9350PS016433M827EK76', 'JH4DA9340MS002938O110ET30'}\",\n",
              "  0.5199999809265137)]"
            ]
          },
          "execution_count": 15,
          "metadata": {},
          "output_type": "execute_result"
        }
      ],
      "source": [
        "list(sorted(distance_rows, key=lambda x: x[1]))[:10]"
      ]
    },
    {
      "cell_type": "code",
      "execution_count": 15,
      "metadata": {
        "id": "FqiPWL2t59m4"
      },
      "outputs": [],
      "source": []
    }
  ],
  "metadata": {
    "colab": {
      "provenance": []
    },
    "kernelspec": {
      "display_name": "Python 3 (ipykernel)",
      "language": "python",
      "name": "python3"
    },
    "language_info": {
      "codemirror_mode": {
        "name": "ipython",
        "version": 3
      },
      "file_extension": ".py",
      "mimetype": "text/x-python",
      "name": "python",
      "nbconvert_exporter": "python",
      "pygments_lexer": "ipython3",
      "version": "3.10.5"
    },
    "vscode": {
      "interpreter": {
        "hash": "353dd062cc86361b994d7bca6ed8e406dbe5ff45a7eab1237ca07ab061f3c99e"
      }
    }
  },
  "nbformat": 4,
  "nbformat_minor": 0
}
